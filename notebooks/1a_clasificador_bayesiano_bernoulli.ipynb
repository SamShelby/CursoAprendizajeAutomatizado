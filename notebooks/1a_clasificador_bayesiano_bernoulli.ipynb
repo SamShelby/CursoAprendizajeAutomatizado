{
  "nbformat": 4,
  "nbformat_minor": 0,
  "metadata": {
    "kernelspec": {
      "display_name": "Python 3",
      "language": "python",
      "name": "python3"
    },
    "language_info": {
      "codemirror_mode": {
        "name": "ipython",
        "version": 3
      },
      "file_extension": ".py",
      "mimetype": "text/x-python",
      "name": "python",
      "nbconvert_exporter": "python",
      "pygments_lexer": "ipython3",
      "version": "3.8.5"
    },
    "colab": {
      "name": "1a_clasificador_bayesiano_bernoulli.ipynb",
      "provenance": [],
      "collapsed_sections": [],
      "include_colab_link": true
    }
  },
  "cells": [
    {
      "cell_type": "markdown",
      "metadata": {
        "id": "view-in-github",
        "colab_type": "text"
      },
      "source": [
        "<a href=\"https://colab.research.google.com/github/gibranfp/CursoAprendizajeAutomatizado/blob/master/notebooks/1a_clasificador_bayesiano_bernoulli.ipynb\" target=\"_parent\"><img src=\"https://colab.research.google.com/assets/colab-badge.svg\" alt=\"Open In Colab\"/></a>"
      ]
    },
    {
      "cell_type": "markdown",
      "metadata": {
        "id": "BUT7nnAUzJzT"
      },
      "source": [
        "# Clasificador bayesiano ingenuo de Bernoulli\n",
        "En esta libreta programaremos un clasificador bayesiano ingenuo en el cual se presupone que la distribución de los atributos dada la clase es una Bernoulli y hay dos posibles clases. "
      ]
    },
    {
      "cell_type": "code",
      "metadata": {
        "id": "9WTkCgB7zJzW"
      },
      "source": [
        "import numpy as np\n",
        "import pandas as pd\n",
        "import matplotlib.pyplot as plt\n",
        "\n",
        "from sklearn.naive_bayes import BernoulliNB as SKBNB\n",
        "from sklearn.datasets import fetch_20newsgroups\n",
        "from sklearn.feature_extraction.text import CountVectorizer"
      ],
      "execution_count": 1,
      "outputs": []
    },
    {
      "cell_type": "markdown",
      "metadata": {
        "id": "f-kw792rzJzX"
      },
      "source": [
        "## Carga de datos"
      ]
    },
    {
      "cell_type": "markdown",
      "metadata": {
        "id": "GsggTrNEzJzX"
      },
      "source": [
        "El conjunto de entrenamiento consiste de 11 documentos que pertenecen a las clases de deportes (0) o informática (1). Cada documento es un vector de 8 dimensiones donde cada dimensión representa la frecuencia de las palabras en nuestro vocabulario de interés:\n",
        " \n",
        "$$V =\n",
        "      \\begin{vmatrix}\n",
        "      w_1 = gol & w_2 = computación & w_3 = transmitir & w_4= velocidad\\\\\n",
        "      w_5 = \\textit{técnica} & w_6= defensa & w_7=\\textit{desempeño} & w_8=campo \\\\\n",
        "      \\end{vmatrix}  \n",
        " $$\n",
        " \n",
        " Lectura con Pandas:"
      ]
    },
    {
      "cell_type": "code",
      "metadata": {
        "id": "yOEwTCMOzJzY",
        "colab": {
          "base_uri": "https://localhost:8080/",
          "height": 389
        },
        "outputId": "1914d6fb-a281-4e2e-9600-0a1b5c241a07"
      },
      "source": [
        "\n",
        "df = pd.read_csv('https://raw.githubusercontent.com/gibranfp/CursoAprendizajeAutomatizado/master/data/dep_inf.csv')\n",
        "df"
      ],
      "execution_count": 2,
      "outputs": [
        {
          "output_type": "execute_result",
          "data": {
            "text/html": [
              "<div>\n",
              "<style scoped>\n",
              "    .dataframe tbody tr th:only-of-type {\n",
              "        vertical-align: middle;\n",
              "    }\n",
              "\n",
              "    .dataframe tbody tr th {\n",
              "        vertical-align: top;\n",
              "    }\n",
              "\n",
              "    .dataframe thead th {\n",
              "        text-align: right;\n",
              "    }\n",
              "</style>\n",
              "<table border=\"1\" class=\"dataframe\">\n",
              "  <thead>\n",
              "    <tr style=\"text-align: right;\">\n",
              "      <th></th>\n",
              "      <th>w1</th>\n",
              "      <th>w2</th>\n",
              "      <th>w3</th>\n",
              "      <th>w4</th>\n",
              "      <th>w5</th>\n",
              "      <th>w6</th>\n",
              "      <th>w7</th>\n",
              "      <th>w8</th>\n",
              "      <th>c</th>\n",
              "    </tr>\n",
              "  </thead>\n",
              "  <tbody>\n",
              "    <tr>\n",
              "      <th>0</th>\n",
              "      <td>2</td>\n",
              "      <td>0</td>\n",
              "      <td>0</td>\n",
              "      <td>0</td>\n",
              "      <td>1</td>\n",
              "      <td>2</td>\n",
              "      <td>3</td>\n",
              "      <td>1</td>\n",
              "      <td>0</td>\n",
              "    </tr>\n",
              "    <tr>\n",
              "      <th>1</th>\n",
              "      <td>0</td>\n",
              "      <td>0</td>\n",
              "      <td>1</td>\n",
              "      <td>0</td>\n",
              "      <td>2</td>\n",
              "      <td>1</td>\n",
              "      <td>0</td>\n",
              "      <td>0</td>\n",
              "      <td>0</td>\n",
              "    </tr>\n",
              "    <tr>\n",
              "      <th>2</th>\n",
              "      <td>0</td>\n",
              "      <td>1</td>\n",
              "      <td>0</td>\n",
              "      <td>1</td>\n",
              "      <td>0</td>\n",
              "      <td>2</td>\n",
              "      <td>1</td>\n",
              "      <td>0</td>\n",
              "      <td>0</td>\n",
              "    </tr>\n",
              "    <tr>\n",
              "      <th>3</th>\n",
              "      <td>1</td>\n",
              "      <td>0</td>\n",
              "      <td>0</td>\n",
              "      <td>2</td>\n",
              "      <td>0</td>\n",
              "      <td>1</td>\n",
              "      <td>0</td>\n",
              "      <td>1</td>\n",
              "      <td>0</td>\n",
              "    </tr>\n",
              "    <tr>\n",
              "      <th>4</th>\n",
              "      <td>2</td>\n",
              "      <td>0</td>\n",
              "      <td>0</td>\n",
              "      <td>0</td>\n",
              "      <td>1</td>\n",
              "      <td>0</td>\n",
              "      <td>1</td>\n",
              "      <td>3</td>\n",
              "      <td>0</td>\n",
              "    </tr>\n",
              "    <tr>\n",
              "      <th>5</th>\n",
              "      <td>0</td>\n",
              "      <td>0</td>\n",
              "      <td>1</td>\n",
              "      <td>2</td>\n",
              "      <td>0</td>\n",
              "      <td>0</td>\n",
              "      <td>2</td>\n",
              "      <td>1</td>\n",
              "      <td>0</td>\n",
              "    </tr>\n",
              "    <tr>\n",
              "      <th>6</th>\n",
              "      <td>0</td>\n",
              "      <td>1</td>\n",
              "      <td>1</td>\n",
              "      <td>0</td>\n",
              "      <td>0</td>\n",
              "      <td>0</td>\n",
              "      <td>1</td>\n",
              "      <td>0</td>\n",
              "      <td>1</td>\n",
              "    </tr>\n",
              "    <tr>\n",
              "      <th>7</th>\n",
              "      <td>1</td>\n",
              "      <td>2</td>\n",
              "      <td>0</td>\n",
              "      <td>1</td>\n",
              "      <td>0</td>\n",
              "      <td>0</td>\n",
              "      <td>1</td>\n",
              "      <td>1</td>\n",
              "      <td>1</td>\n",
              "    </tr>\n",
              "    <tr>\n",
              "      <th>8</th>\n",
              "      <td>0</td>\n",
              "      <td>1</td>\n",
              "      <td>1</td>\n",
              "      <td>0</td>\n",
              "      <td>0</td>\n",
              "      <td>2</td>\n",
              "      <td>0</td>\n",
              "      <td>0</td>\n",
              "      <td>1</td>\n",
              "    </tr>\n",
              "    <tr>\n",
              "      <th>9</th>\n",
              "      <td>0</td>\n",
              "      <td>0</td>\n",
              "      <td>0</td>\n",
              "      <td>0</td>\n",
              "      <td>0</td>\n",
              "      <td>0</td>\n",
              "      <td>0</td>\n",
              "      <td>0</td>\n",
              "      <td>1</td>\n",
              "    </tr>\n",
              "    <tr>\n",
              "      <th>10</th>\n",
              "      <td>0</td>\n",
              "      <td>0</td>\n",
              "      <td>1</td>\n",
              "      <td>0</td>\n",
              "      <td>1</td>\n",
              "      <td>0</td>\n",
              "      <td>1</td>\n",
              "      <td>0</td>\n",
              "      <td>1</td>\n",
              "    </tr>\n",
              "  </tbody>\n",
              "</table>\n",
              "</div>"
            ],
            "text/plain": [
              "    w1  w2  w3  w4  w5  w6  w7  w8  c \n",
              "0    2   0   0   0   1   2   3   1   0\n",
              "1    0   0   1   0   2   1   0   0   0\n",
              "2    0   1   0   1   0   2   1   0   0\n",
              "3    1   0   0   2   0   1   0   1   0\n",
              "4    2   0   0   0   1   0   1   3   0\n",
              "5    0   0   1   2   0   0   2   1   0\n",
              "6    0   1   1   0   0   0   1   0   1\n",
              "7    1   2   0   1   0   0   1   1   1\n",
              "8    0   1   1   0   0   2   0   0   1\n",
              "9    0   0   0   0   0   0   0   0   1\n",
              "10   0   0   1   0   1   0   1   0   1"
            ]
          },
          "metadata": {
            "tags": []
          },
          "execution_count": 2
        }
      ]
    },
    {
      "cell_type": "markdown",
      "metadata": {
        "id": "g7JU_Dl8zJzZ"
      },
      "source": [
        "Conversion a numpy:"
      ]
    },
    {
      "cell_type": "code",
      "metadata": {
        "id": "x65XXG8-zJzZ"
      },
      "source": [
        "data = df.to_numpy()"
      ],
      "execution_count": 3,
      "outputs": []
    },
    {
      "cell_type": "markdown",
      "metadata": {
        "id": "nSHiyiS8zJzb"
      },
      "source": [
        "## Clasificador bayesiano ingenuo para distribución de Bernoulli\r\n",
        "Definimos una función para obtener la probabilidad de 0 o 1 dada una distribución de Bernoulli con parámetro $q$."
      ]
    },
    {
      "cell_type": "code",
      "metadata": {
        "id": "hFjc0A4w4y8Z"
      },
      "source": [
        "def bernoulli(x, q):\r\n",
        "    \"\"\"\r\n",
        "    Distribución de bernoulli\r\n",
        "    \"\"\"\r\n",
        "    return np.power(q, x) * np.power(1.0 - q, 1.0 - x)"
      ],
      "execution_count": 4,
      "outputs": []
    },
    {
      "cell_type": "markdown",
      "metadata": {
        "id": "-NjqbI7g40px"
      },
      "source": [
        "Definimos una clase con el clasificador bayesiano ingenuo para atributos binarios y estimación de parámetros por máxima verosimilitud."
      ]
    },
    {
      "cell_type": "code",
      "metadata": {
        "colab": {
          "base_uri": "https://localhost:8080/"
        },
        "id": "l4GWsvvWzSwq",
        "outputId": "bf6c5152-4d85-4bad-e1c3-a35830a2a9e2"
      },
      "source": [
        "class BernoulliNB:\r\n",
        "  def fit(self, X, y):\r\n",
        "    \"\"\"\r\n",
        "    Estima parámetros por máxima verosimilitud\r\n",
        "    \"\"\"\r\n",
        "    self.clases = np.unique(y)\r\n",
        "    self.n_clases = self.clases.size\r\n",
        "    self.n_atr = X.shape[-1]\r\n",
        "    self.qa = np.zeros((self.n_clases, self.n_atr))\r\n",
        "    self.qc = np.zeros((self.n_clases))\r\n",
        "\r\n",
        "    n = X.shape[0]\r\n",
        "    for i,c in enumerate(self.clases):\r\n",
        "      Xc = X[np.where(y == c)]\r\n",
        "      nc = Xc.shape[0]\r\n",
        "      self.qc[i] = nc / n\r\n",
        "      for j in range(self.n_atr):\r\n",
        "        self.qa[i, j] = np.count_nonzero(Xc[:, j], axis = 0) / nc\r\n",
        "\r\n",
        "  def predict_proba(self, x, aposteriori=False):\r\n",
        "    \"\"\"\r\n",
        "    Calcula probabildad a posteriori de cada clase de conjunto de datos\r\n",
        "    \"\"\"\r\n",
        "    pcc = np.zeros((self.n_clases, x.shape[0]))\r\n",
        "    for i in range(self.n_clases):\r\n",
        "      pcc[i, :] = np.prod(bernoulli(x, self.qa[i, :]), axis=1) * self.qc[i]\r\n",
        "    \r\n",
        "    return pcc\r\n",
        "\r\n",
        "  def predict(self, x):\r\n",
        "    \"\"\"\r\n",
        "    Predice clase de conjunto de datos\r\n",
        "    \"\"\"\r\n",
        "    return np.argmax(self.predict_proba(x), axis=0)\r\n",
        "\r\n",
        "X = data[:, :-1]\r\n",
        "y = data[:, -1]\r\n",
        "bnb = BernoulliNB()\r\n",
        "bnb.fit(X, y)\r\n",
        "\r\n",
        "print(bnb.predict(np.array([[1, 0, 0, 1, 1, 1, 0, 1],\r\n",
        "                            [0, 1, 1, 0, 1, 0, 1, 0]])))\r\n",
        "print(bnb.predict_proba(np.array([[1, 0, 0, 1, 1, 1, 0, 1],\r\n",
        "                                  [0, 1, 1, 0, 1, 0, 1, 0]]), aposteriori=True))"
      ],
      "execution_count": 5,
      "outputs": [
        {
          "output_type": "stream",
          "text": [
            "[0 1]\n",
            "[[5.61167228e-03 2.80583614e-04]\n",
            " [9.30909091e-06 8.04305455e-03]]\n"
          ],
          "name": "stdout"
        }
      ]
    },
    {
      "cell_type": "markdown",
      "metadata": {
        "id": "sviQpYB6UC-Y"
      },
      "source": [
        "Cuando el número de atributos es muy grandes, es conveniente usar escala logarítmica para calcular la probabilidad de las clases dado un nuevo dato."
      ]
    },
    {
      "cell_type": "code",
      "metadata": {
        "id": "ckBmdQlnPzIr",
        "colab": {
          "base_uri": "https://localhost:8080/"
        },
        "outputId": "bdf8b31c-d960-4164-d8ed-9c530c3d5002"
      },
      "source": [
        "class BernoulliNBLog:\r\n",
        "  def fit(self, X, y):\r\n",
        "    \"\"\"\r\n",
        "    Estima parámetros por máxima verosimilitud\r\n",
        "    \"\"\"\r\n",
        "    self.clases = np.unique(y)\r\n",
        "    self.n_clases = self.clases.size\r\n",
        "    self.n_atr = X.shape[-1]\r\n",
        "    self.qa = np.zeros((self.n_clases, self.n_atr))\r\n",
        "    self.qc = np.zeros((self.n_clases))\r\n",
        "\r\n",
        "    n = X.shape[0]\r\n",
        "    for i,c in enumerate(self.clases):\r\n",
        "      Xc = X[np.where(y == c)]\r\n",
        "      nc = Xc.shape[0]\r\n",
        "      self.qc[i] = nc / n\r\n",
        "      for j in range(self.n_atr):\r\n",
        "        self.qa[i, j] = np.count_nonzero(Xc[:, j], axis = 0) / nc\r\n",
        "\r\n",
        "  def predict_proba(self, x):\r\n",
        "    \"\"\"\r\n",
        "    Calcula probabildad a posteriori de cada clase de conjunto de datos\r\n",
        "    \"\"\"\r\n",
        "    pcc = np.zeros((self.n_clases, x.shape[0]))\r\n",
        "    for i in range(self.n_clases):\r\n",
        "      a0log = (1 - x) @ np.log(1 - self.qa[i, :])\r\n",
        "      a1log = x @ np.log(self.qa[i, :])\r\n",
        "      pcc[i, :] = a0log + a1log + np.log(self.qc[i])\r\n",
        "    \r\n",
        "    return pcc\r\n",
        "\r\n",
        "  def predict(self, x):\r\n",
        "    \"\"\"\r\n",
        "    Predice clase de conjunto de datos\r\n",
        "    \"\"\"\r\n",
        "    return np.argmax(self.predict_proba(x), axis=0)\r\n",
        "\r\n",
        "bnbl = BernoulliNBLog()\r\n",
        "bnbl.fit(X, y)\r\n",
        "\r\n",
        "print(bnbl.predict(np.array([[1, 0, 0, 1, 1, 1, 0, 1],\r\n",
        "                            [0, 1, 1, 0, 1, 0, 1, 0]])))\r\n",
        "print(bnbl.predict_proba(np.array([[1, 0, 0, 1, 1, 1, 0, 1],\r\n",
        "                                  [0, 1, 1, 0, 1, 0, 1, 0]])))\r\n",
        "print(np.exp(bnbl.predict_proba(np.array([[1, 0, 0, 1, 1, 1, 0, 1],\r\n",
        "                                  [0, 1, 1, 0, 1, 0, 1, 0]]))))"
      ],
      "execution_count": 6,
      "outputs": [
        {
          "output_type": "stream",
          "text": [
            "[0 1]\n",
            "[[ -5.18290652  -8.17863879]\n",
            " [-11.58451912  -4.82294635]]\n",
            "[[5.61167228e-03 2.80583614e-04]\n",
            " [9.30909091e-06 8.04305455e-03]]\n"
          ],
          "name": "stdout"
        }
      ]
    },
    {
      "cell_type": "markdown",
      "metadata": {
        "id": "hoeKbKknUTaZ"
      },
      "source": [
        "Podemos modificar la definición anterior para estimar los parámetros por máximo a posteriori."
      ]
    },
    {
      "cell_type": "code",
      "metadata": {
        "colab": {
          "base_uri": "https://localhost:8080/"
        },
        "id": "cYFprucnNf8o",
        "outputId": "8a06a187-bbba-4f3c-ddc3-aab6c830c546"
      },
      "source": [
        "class BernoulliNBLogMAP:\r\n",
        "  def fit(self, X, y, alfa=1):\r\n",
        "    \"\"\"\r\n",
        "    Estima parámetros por máxima verosimilitud\r\n",
        "    \"\"\"\r\n",
        "    self.clases = np.unique(y)\r\n",
        "    self.n_clases = self.clases.size\r\n",
        "    self.n_atr = X.shape[-1]\r\n",
        "    self.qa = np.zeros((self.n_clases, self.n_atr))\r\n",
        "    self.qc = np.zeros((self.n_clases))\r\n",
        "\r\n",
        "    n = X.shape[0]\r\n",
        "    for i,c in enumerate(self.clases):\r\n",
        "      Xc = X[np.where(y == c)]\r\n",
        "      nc = Xc.shape[0]\r\n",
        "      self.qc[i] = (nc + 2 * alfa) / (n + 2 * alfa * self.n_clases)\r\n",
        "      for j in range(self.n_atr):\r\n",
        "        self.qa[i, j] = (np.count_nonzero(Xc[:, j], axis = 0) + alfa) / (nc + alfa * self.n_atr)\r\n",
        "\r\n",
        "  def predict_proba(self, x):\r\n",
        "    \"\"\"\r\n",
        "    Calcula probabildad a posteriori de cada clase de conjunto de datos\r\n",
        "    \"\"\"\r\n",
        "    pcc = np.zeros((self.n_clases, x.shape[0]))\r\n",
        "    for i in range(self.n_clases):\r\n",
        "      a0log = (1 - x) @ np.log(1 - self.qa[i, :])\r\n",
        "      a1log = x @ np.log(self.qa[i, :])\r\n",
        "      pcc[i, :] = a0log + a1log + np.log(self.qc[i])\r\n",
        "    \r\n",
        "    return pcc\r\n",
        "\r\n",
        "  def predict(self, x):\r\n",
        "    \"\"\"\r\n",
        "    Predice clase de conjunto de datos\r\n",
        "    \"\"\"\r\n",
        "    return np.argmax(self.predict_proba(x), axis=0)\r\n",
        "\r\n",
        "X = data[:, :-1]\r\n",
        "y = data[:, -1]\r\n",
        "bnblm = BernoulliNBLogMAP()\r\n",
        "bnblm.fit(X, y)\r\n",
        "\r\n",
        "print(bnblm.predict(np.array([[1, 0, 0, 1, 1, 1, 0, 1],\r\n",
        "                            [0, 1, 1, 0, 1, 0, 1, 0]])))\r\n",
        "print(bnblm.predict_proba(np.array([[1, 0, 0, 1, 1, 1, 0, 1],\r\n",
        "                                  [0, 1, 1, 0, 1, 0, 1, 0]])))\r\n",
        "print(np.exp(bnblm.predict_proba(np.array([[1, 0, 0, 1, 1, 1, 0, 1],\r\n",
        "                                  [0, 1, 1, 0, 1, 0, 1, 0]]))))"
      ],
      "execution_count": 7,
      "outputs": [
        {
          "output_type": "stream",
          "text": [
            "[0 1]\n",
            "[[ -7.28328189  -7.95395621]\n",
            " [-11.22432528  -6.83812356]]\n",
            "[[6.86927441e-04 3.51269714e-04]\n",
            " [1.33455805e-05 1.07211327e-03]]\n"
          ],
          "name": "stdout"
        }
      ]
    },
    {
      "cell_type": "markdown",
      "metadata": {
        "id": "OkxPZNUvF4K_"
      },
      "source": [
        "## Clasificación de documentos por tema\r\n",
        "Probaremos nuestro clasificador bayesiano ingenuo en la clasificación de documentos por tema usando el conjunto de datos _20 newsgroups_."
      ]
    },
    {
      "cell_type": "code",
      "metadata": {
        "id": "k_xhsQiEE3rq"
      },
      "source": [
        "ng_ent = fetch_20newsgroups(subset='train', \r\n",
        "                            shuffle=True, \r\n",
        "                            random_state=42)\r\n",
        "\r\n",
        "ng_prueba = fetch_20newsgroups(subset='test',\r\n",
        "                               shuffle=True, \r\n",
        "                               random_state=42)"
      ],
      "execution_count": 9,
      "outputs": []
    },
    {
      "cell_type": "markdown",
      "metadata": {
        "id": "jnzAQB4wWbPg"
      },
      "source": [
        "Veamos cómo están distribuidas las clases en el conjunto de entrenamiento"
      ]
    },
    {
      "cell_type": "code",
      "metadata": {
        "colab": {
          "base_uri": "https://localhost:8080/",
          "height": 265
        },
        "id": "gyuWjJv6O894",
        "outputId": "f68c63da-011d-4bf1-8cf9-3128c69fa985"
      },
      "source": [
        "plt.hist(y_ent, bins=[i for i in range(21)])\r\n",
        "plt.xticks(np.unique(y_ent))\r\n",
        "plt.show()"
      ],
      "execution_count": 12,
      "outputs": [
        {
          "output_type": "display_data",
          "data": {
            "image/png": "[encoded data removed]",
            "text/plain": [
              "<Figure size 432x288 with 1 Axes>"
            ]
          },
          "metadata": {
            "tags": [],
            "needs_background": "light"
          }
        }
      ]
    },
    {
      "cell_type": "markdown",
      "metadata": {
        "id": "d0RZiJkMW7pa"
      },
      "source": [
        "Obtenemos la representación vectorizada binaria. "
      ]
    },
    {
      "cell_type": "code",
      "metadata": {
        "id": "vrtHJB1JJiVo"
      },
      "source": [
        "vec = CountVectorizer(max_features=1000,\r\n",
        "                      stop_words='english', \r\n",
        "                      binary=True)\r\n",
        "\r\n",
        "X_ent = vec.fit_transform(ng_ent.data)\r\n",
        "y_ent = ng_ent.target\r\n",
        "\r\n",
        "X_prueba = vec.transform(ng_prueba.data)\r\n",
        "y_prueba = ng_prueba.target"
      ],
      "execution_count": 10,
      "outputs": []
    },
    {
      "cell_type": "markdown",
      "metadata": {
        "id": "-YWzry1PWCs4"
      },
      "source": [
        "En `scikit-learn` dentro del submódulo `naive_bayes` están definidos clasificadores bayesianos ingenuos con distintas distribuciones para los atributos. Compararemos nuestro clasificador con el `BernoulliNB` de `scikit-learn`."
      ]
    },
    {
      "cell_type": "code",
      "metadata": {
        "colab": {
          "base_uri": "https://localhost:8080/"
        },
        "id": "rgGhGHnoGmPf",
        "outputId": "fee47448-25ea-41fc-96ec-08cbd947709f"
      },
      "source": [
        "clasificador = BernoulliNB()\r\n",
        "clasificador.fit(X_ent.toarray(), y_ent)\r\n",
        "pred = clasificador.predict(X_prueba.toarray())\r\n",
        "exactitud = (pred==y_prueba).mean()\r\n",
        "print('Exactitud (nuestra) = {0}'.format(exactitud))\r\n",
        "\r\n",
        "skc = SKBNB()\r\n",
        "skc = skc.fit(X_ent, y_ent)\r\n",
        "skpred = skc.predict(X_prueba.toarray())\r\n",
        "exactitudsk = (skpred==y_prueba).mean()\r\n",
        "print('Exactitud (sklearn) = {0}'.format(exactitudsk))"
      ],
      "execution_count": 18,
      "outputs": [
        {
          "output_type": "stream",
          "text": [
            "Exactitud (nuestra) = 0.5456718003186405\n",
            "Exactitud (sklearn) = 0.5570897503983006\n"
          ],
          "name": "stdout"
        }
      ]
    }
  ]
}